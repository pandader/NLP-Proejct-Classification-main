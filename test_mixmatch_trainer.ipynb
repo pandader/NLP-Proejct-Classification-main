{
 "cells": [
  {
   "cell_type": "code",
   "execution_count": 1,
   "metadata": {},
   "outputs": [
    {
     "name": "stderr",
     "output_type": "stream",
     "text": [
      "/Users/lunli/anaconda3/envs/ML Algo/lib/python3.10/site-packages/tqdm/auto.py:21: TqdmWarning: IProgress not found. Please update jupyter and ipywidgets. See https://ipywidgets.readthedocs.io/en/stable/user_install.html\n",
      "  from .autonotebook import tqdm as notebook_tqdm\n",
      "/Users/lunli/anaconda3/envs/ML Algo/lib/python3.10/site-packages/transformers/models/marian/tokenization_marian.py:175: UserWarning: Recommended: pip install sacremoses.\n",
      "  warnings.warn(\"Recommended: pip install sacremoses.\")\n"
     ]
    }
   ],
   "source": [
    "import os\n",
    "import pandas as pd\n",
    "from torch import Generator\n",
    "from torch.utils.data import DataLoader, RandomSampler\n",
    "# transformer\n",
    "from transformers.optimization import AdamW, SchedulerType\n",
    "# peft\n",
    "from peft import LoraConfig, TaskType\n",
    "# native\n",
    "from NlpAnalytics import *"
   ]
  },
  {
   "cell_type": "code",
   "execution_count": 2,
   "metadata": {},
   "outputs": [],
   "source": [
    "USE_LORA = False\n",
    "GENERATOR = Generator().manual_seed(42)\n",
    "PATH = 'NlpAnalytics/data/dummy_data'"
   ]
  },
  {
   "cell_type": "code",
   "execution_count": 3,
   "metadata": {},
   "outputs": [
    {
     "name": "stderr",
     "output_type": "stream",
     "text": [
      "/Users/lunli/anaconda3/envs/ML Algo/lib/python3.10/site-packages/huggingface_hub/file_download.py:1132: FutureWarning: `resume_download` is deprecated and will be removed in version 1.0.0. Downloads always resume when possible. If you want to force a new download, use `force_download=True`.\n",
      "  warnings.warn(\n"
     ]
    }
   ],
   "source": [
    "###  Data Loader\n",
    "# get tokenizer\n",
    "tokenizer = BertLoader(load_tokenizer=True).tokenizer\n",
    "# create DatasetNLP\n",
    "train_sup_ds = DatasetNLP(input_df=pd.read_csv(os.path.join(PATH, \"sup_train.csv\")), tokenizer=tokenizer, cols_label=['label'])\n",
    "train_unsup_ds = DatasetNLP(input_df=pd.read_csv(os.path.join(PATH, \"unsup_train.csv\"))[:16], tokenizer=tokenizer, cols_to_tokenize=['orig_text', 'aug_text'])\n",
    "test_ds = DatasetNLP(input_df=pd.read_csv(os.path.join(PATH, \"sup_test.csv\"))[:16], tokenizer=tokenizer, cols_to_tokenize=['text'], cols_label=['label'])\n",
    "# assemble data loader\n",
    "datamodeler = {\n",
    "    DataLoaderType.TRAINING: DataLoader(train_sup_ds, sampler=RandomSampler(train_sup_ds, generator=GENERATOR), batch_size=8),\n",
    "    DataLoaderType.TRAINING_UNLABELED: DataLoader(train_unsup_ds, sampler=RandomSampler(train_unsup_ds, generator=GENERATOR), batch_size=8),\n",
    "    DataLoaderType.VALIDATION: DataLoader(test_ds, sampler=RandomSampler(test_ds, generator=GENERATOR), batch_size=8)}"
   ]
  },
  {
   "cell_type": "code",
   "execution_count": 4,
   "metadata": {},
   "outputs": [],
   "source": [
    "### Model & Optimization\n",
    "num_labels = 2\n",
    "# it has to be NATIVE one not HF [TODO: make it compatible with _HF]\n",
    "loader = BertClassifierLoader(ClassifierType.BERT_CLASSIFIER, \"bert-base-uncased\", num_labels, 0.1)"
   ]
  },
  {
   "cell_type": "code",
   "execution_count": 5,
   "metadata": {},
   "outputs": [
    {
     "name": "stderr",
     "output_type": "stream",
     "text": [
      "/Users/lunli/anaconda3/envs/ML Algo/lib/python3.10/site-packages/transformers/optimization.py:588: FutureWarning: This implementation of AdamW is deprecated and will be removed in a future version. Use the PyTorch implementation torch.optim.AdamW instead, or set `no_deprecation_warning=True` to disable this warning\n",
      "  warnings.warn(\n"
     ]
    }
   ],
   "source": [
    "### Optimizer set up\n",
    "if not USE_LORA:\n",
    "    optimizer = AdamNLP.newNLPAdam(loader.model, {'embeddings':True, 'encoder': 9}, lr = 0.0005)\n",
    "    model = optimizer.get_model_transformed()\n",
    "else:\n",
    "    lora_config = LoraConfig(task_type=TaskType.SEQ_CLS,target_modules=[\"query\", \"key\", \"value\"], r=1, lora_alpha=1, lora_dropout=0.1)\n",
    "    optimizer = AdamNLP.newNLPAdam_LORA(loader.model, lora_config)\n",
    "    model = optimizer.get_model_transformed()\n",
    "# aux model\n",
    "aux_model = MultiLabelClassifier(model.bert.config.hidden_size, num_labels)\n",
    "aux_optimizer = AdamW(aux_model.parameters(), lr=0.0005)"
   ]
  },
  {
   "cell_type": "code",
   "execution_count": 6,
   "metadata": {},
   "outputs": [
    {
     "name": "stderr",
     "output_type": "stream",
     "text": [
      "huggingface/tokenizers: The current process just got forked, after parallelism has already been used. Disabling parallelism to avoid deadlocks...\n",
      "To disable this warning, you can either:\n",
      "\t- Avoid using `tokenizers` before the fork if possible\n",
      "\t- Explicitly set the environment variable TOKENIZERS_PARALLELISM=(true | false)\n",
      "Epoch:   0%|          | 0/2 [00:00<?, ?it/s]"
     ]
    },
    {
     "name": "stdout",
     "output_type": "stream",
     "text": [
      "For epoch 1, the mean sup loss is: 0.6774942278862, and accuracy is: 0.625.\n",
      "Validation accuracy is: 0.0.\n",
      "\n"
     ]
    },
    {
     "name": "stderr",
     "output_type": "stream",
     "text": [
      "Epoch:  50%|█████     | 1/2 [00:02<00:02,  2.09s/it]"
     ]
    },
    {
     "name": "stdout",
     "output_type": "stream",
     "text": [
      "For epoch 2, the mean sup loss is: 1.2225176095962524, and accuracy is: 0.5.\n",
      "Validation accuracy is: 0.0.\n",
      "\n"
     ]
    },
    {
     "name": "stderr",
     "output_type": "stream",
     "text": [
      "Epoch: 100%|██████████| 2/2 [00:04<00:00,  2.07s/it]\n"
     ]
    }
   ],
   "source": [
    "### Training\n",
    "trainer = TrainerMixAndMatch(model, aux_model, datamodeler, optimizer, aux_optimizer)\n",
    "trainer.train(2, schedule_type = SchedulerType.CONSTANT, save_model_freq=1)"
   ]
  }
 ],
 "metadata": {
  "kernelspec": {
   "display_name": "ML Algo",
   "language": "python",
   "name": "python3"
  },
  "language_info": {
   "codemirror_mode": {
    "name": "ipython",
    "version": 3
   },
   "file_extension": ".py",
   "mimetype": "text/x-python",
   "name": "python",
   "nbconvert_exporter": "python",
   "pygments_lexer": "ipython3",
   "version": "3.10.13"
  }
 },
 "nbformat": 4,
 "nbformat_minor": 2
}
