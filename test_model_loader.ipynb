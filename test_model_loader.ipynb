{
 "cells": [
  {
   "cell_type": "code",
   "execution_count": 1,
   "metadata": {},
   "outputs": [
    {
     "name": "stderr",
     "output_type": "stream",
     "text": [
      "/Users/lunli/anaconda3/envs/ML Algo/lib/python3.10/site-packages/tqdm/auto.py:21: TqdmWarning: IProgress not found. Please update jupyter and ipywidgets. See https://ipywidgets.readthedocs.io/en/stable/user_install.html\n",
      "  from .autonotebook import tqdm as notebook_tqdm\n",
      "[nltk_data] Downloading package stopwords to /Users/lunli/nltk_data...\n",
      "[nltk_data]   Package stopwords is already up-to-date!\n"
     ]
    }
   ],
   "source": [
    "import torch\n",
    "from torch import nn\n",
    "from NlpAnalytics import *"
   ]
  },
  {
   "cell_type": "markdown",
   "metadata": {},
   "source": [
    "### TEST BERTBaseModelLoader"
   ]
  },
  {
   "cell_type": "code",
   "execution_count": null,
   "metadata": {},
   "outputs": [],
   "source": [
    "### basic model\n",
    "loader_bert_only = BertLoader()\n",
    "model_base, tokenizer_base = loader_bert_only.model, loader_bert_only.tokenizer"
   ]
  },
  {
   "cell_type": "markdown",
   "metadata": {},
   "source": [
    "### TEST BERTClassifierLoader"
   ]
  },
  {
   "cell_type": "markdown",
   "metadata": {},
   "source": [
    "##### 1. Hugging Face"
   ]
  },
  {
   "cell_type": "code",
   "execution_count": null,
   "metadata": {},
   "outputs": [],
   "source": [
    "### load HF BERT Classifier\n",
    "loader = BertClassifierLoader(ClassifierType.BERT_CLASSIFIER_HF, \"bert-base-uncased\", 2, 0.1, load_tokenizer=True)\n",
    "model_hf, tokenizer_hf = loader.model, loader.tokenizer"
   ]
  },
  {
   "cell_type": "code",
   "execution_count": null,
   "metadata": {},
   "outputs": [],
   "source": [
    "### test tokenizer\n",
    "text = ['This is good!', 'I am happy!']\n",
    "# get tensors\n",
    "tenors = tokenizer_hf(text, truncation=True, return_tensors='pt', padding=True, max_length=128)\n",
    "# get tokenized text\n",
    "text_tokenized = tokenizer_hf.tokenize(text[0])"
   ]
  },
  {
   "cell_type": "markdown",
   "metadata": {},
   "source": [
    "##### 2. Native"
   ]
  },
  {
   "cell_type": "code",
   "execution_count": 2,
   "metadata": {},
   "outputs": [],
   "source": [
    "### load Native BERT Classifier\n",
    "loader_native = BertClassifierLoader(ClassifierType.BERT_CLASSIFIER, \"bert-base-uncased\", 2, 0.1, hidden_dims=[768], load_tokenizer=True)\n",
    "model_native, tokenizer_native = loader_native.model, loader_native.tokenizer"
   ]
  },
  {
   "cell_type": "code",
   "execution_count": null,
   "metadata": {},
   "outputs": [],
   "source": [
    "### test tokenizer\n",
    "text = ['This is good!', 'I am happy!']\n",
    "# get tensors\n",
    "tenors = tokenizer_native(text, truncation=True, return_tensors='pt', padding=True, max_length=128)\n",
    "# get tokenized text\n",
    "text_tokenized = tokenizer_native.tokenize(text[0])"
   ]
  },
  {
   "cell_type": "markdown",
   "metadata": {},
   "source": [
    "### Analyze Model Parameters"
   ]
  },
  {
   "cell_type": "code",
   "execution_count": 3,
   "metadata": {},
   "outputs": [],
   "source": [
    "this_model = model_native # model_HF, model_base\n",
    "param_analyzer = ModelParameterAnalyze(this_model)\n",
    "# display(param_analyzer.display_all_parameters()) # <= display all parameters\n",
    "# display(param_analyzer.get_classifier_parameters()) # <= classification head parameters\n",
    "# display(param_analyzer.get_bert_parameters()) # <= bert parameters\n",
    "# display(param_analyzer.get_bert_layer_norm_parameters())\n",
    "# display(param_analyzer.get_bert_bias_parameters())\n",
    "# display(param_analyzer.get_bert_no_reg_parameters())\n",
    "# display(param_analyzer.get_parameters_by_types(types=['encoder']))\n",
    "# display(param_analyzer.get_detail_bert_parameters()) # <= a dictionary of bert parameters embedding/encoder/pooler\n",
    "# display(param_analyzer.get_bert_all_weight_parameters()) # <= all weight parameters (default excluding embedding, NormLayer)"
   ]
  },
  {
   "cell_type": "code",
   "execution_count": 4,
   "metadata": {},
   "outputs": [
    {
     "data": {
      "text/plain": [
       "['bert.encoder.layer.11.attention.output.dense.weight',\n",
       " 'bert.encoder.layer.7.attention.self.key.weight',\n",
       " 'bert.encoder.layer.11.intermediate.dense.weight',\n",
       " 'bert.encoder.layer.7.attention.self.value.weight',\n",
       " 'bert.encoder.layer.7.intermediate.dense.weight',\n",
       " 'bert.encoder.layer.11.attention.self.query.weight',\n",
       " 'bert.encoder.layer.11.attention.self.value.weight',\n",
       " 'bert.encoder.layer.7.attention.output.dense.weight',\n",
       " 'bert.encoder.layer.11.output.dense.weight',\n",
       " 'bert.encoder.layer.11.attention.self.key.weight',\n",
       " 'bert.encoder.layer.7.output.dense.weight',\n",
       " 'bert.encoder.layer.7.attention.self.query.weight']"
      ]
     },
     "metadata": {},
     "output_type": "display_data"
    }
   ],
   "source": [
    "display(param_analyzer.get_encoder_parameters_by_layers([11,7]))"
   ]
  },
  {
   "cell_type": "code",
   "execution_count": 7,
   "metadata": {},
   "outputs": [],
   "source": [
    "a = [7]"
   ]
  },
  {
   "cell_type": "code",
   "execution_count": null,
   "metadata": {},
   "outputs": [],
   "source": []
  }
 ],
 "metadata": {
  "kernelspec": {
   "display_name": "base",
   "language": "python",
   "name": "python3"
  },
  "language_info": {
   "codemirror_mode": {
    "name": "ipython",
    "version": 3
   },
   "file_extension": ".py",
   "mimetype": "text/x-python",
   "name": "python",
   "nbconvert_exporter": "python",
   "pygments_lexer": "ipython3",
   "version": "3.10.13"
  }
 },
 "nbformat": 4,
 "nbformat_minor": 2
}
