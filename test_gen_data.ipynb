{
 "cells": [
  {
   "cell_type": "code",
   "execution_count": 1,
   "metadata": {},
   "outputs": [
    {
     "name": "stderr",
     "output_type": "stream",
     "text": [
      "/Users/lunli/anaconda3/envs/ML Algo/lib/python3.10/site-packages/tqdm/auto.py:21: TqdmWarning: IProgress not found. Please update jupyter and ipywidgets. See https://ipywidgets.readthedocs.io/en/stable/user_install.html\n",
      "  from .autonotebook import tqdm as notebook_tqdm\n",
      "/Users/lunli/anaconda3/envs/ML Algo/lib/python3.10/site-packages/transformers/models/marian/tokenization_marian.py:175: UserWarning: Recommended: pip install sacremoses.\n",
      "  warnings.warn(\"Recommended: pip install sacremoses.\")\n"
     ]
    }
   ],
   "source": [
    "import os\n",
    "import pandas as pd\n",
    "# native\n",
    "from NlpAnalytics import *"
   ]
  },
  {
   "cell_type": "code",
   "execution_count": 2,
   "metadata": {},
   "outputs": [],
   "source": [
    "### global vars\n",
    "ROOT_PATH = \"./NlpAnalytics/data/dummy_data/\""
   ]
  },
  {
   "cell_type": "code",
   "execution_count": 3,
   "metadata": {},
   "outputs": [],
   "source": [
    "### load dummy data\n",
    "dummy_data = pd.read_csv(os.path.join(ROOT_PATH, 'intent_train.csv'))['query'].values.tolist()"
   ]
  },
  {
   "cell_type": "markdown",
   "metadata": {},
   "source": [
    "### Text Generation (Conventional Method)"
   ]
  },
  {
   "cell_type": "code",
   "execution_count": 4,
   "metadata": {},
   "outputs": [],
   "source": [
    "# create data augmentation agent\n",
    "data_generator = TextAug()"
   ]
  },
  {
   "cell_type": "code",
   "execution_count": 5,
   "metadata": {},
   "outputs": [],
   "source": [
    "# generation in-action\n",
    "df_aug_res = data_generator.augment(dummy_data[:10], n=2)"
   ]
  },
  {
   "cell_type": "code",
   "execution_count": 6,
   "metadata": {},
   "outputs": [
    {
     "data": {
      "text/html": [
       "<div>\n",
       "<style scoped>\n",
       "    .dataframe tbody tr th:only-of-type {\n",
       "        vertical-align: middle;\n",
       "    }\n",
       "\n",
       "    .dataframe tbody tr th {\n",
       "        vertical-align: top;\n",
       "    }\n",
       "\n",
       "    .dataframe thead th {\n",
       "        text-align: right;\n",
       "    }\n",
       "</style>\n",
       "<table border=\"1\" class=\"dataframe\">\n",
       "  <thead>\n",
       "    <tr style=\"text-align: right;\">\n",
       "      <th></th>\n",
       "      <th>org</th>\n",
       "      <th>aug1</th>\n",
       "      <th>aug2</th>\n",
       "    </tr>\n",
       "  </thead>\n",
       "  <tbody>\n",
       "    <tr>\n",
       "      <th>0</th>\n",
       "      <td>i want to fly from boston at 838 am and arriv...</td>\n",
       "      <td>I want to fly from Boston at 8:38 a.m. and arr...</td>\n",
       "      <td>want to fly from boston at 838 and in at 1110 ...</td>\n",
       "    </tr>\n",
       "    <tr>\n",
       "      <th>1</th>\n",
       "      <td>what flights are available from pittsburgh to...</td>\n",
       "      <td>which flights are available from Pittsburgh to...</td>\n",
       "      <td>flights are from to baltimore on thursday morning</td>\n",
       "    </tr>\n",
       "    <tr>\n",
       "      <th>2</th>\n",
       "      <td>what is the arrival time in san francisco for...</td>\n",
       "      <td>what's the time of arrival in san francisco fo...</td>\n",
       "      <td>what the arrival time in francisco for the am ...</td>\n",
       "    </tr>\n",
       "    <tr>\n",
       "      <th>3</th>\n",
       "      <td>cheapest airfare from tacoma to orlando</td>\n",
       "      <td>Cheapest airfares from tacoma to orlando</td>\n",
       "      <td>cheapest from to orlando</td>\n",
       "    </tr>\n",
       "    <tr>\n",
       "      <th>4</th>\n",
       "      <td>round trip fares from pittsburgh to philadelp...</td>\n",
       "      <td>round-trip rates from pittsburgh to philadelph...</td>\n",
       "      <td>round trip pittsburgh to philadelphia under do...</td>\n",
       "    </tr>\n",
       "    <tr>\n",
       "      <th>5</th>\n",
       "      <td>i need a flight tomorrow from columbus to min...</td>\n",
       "      <td>I need a columbus flight tomorrow in minneapolis.</td>\n",
       "      <td>i need a flight tomorrow columbus</td>\n",
       "    </tr>\n",
       "    <tr>\n",
       "      <th>6</th>\n",
       "      <td>what kind of aircraft is used on a flight fro...</td>\n",
       "      <td>what type of aircraft is used on a flight from...</td>\n",
       "      <td>what kind of aircraft is used a to dallas</td>\n",
       "    </tr>\n",
       "    <tr>\n",
       "      <th>7</th>\n",
       "      <td>show me the flights from pittsburgh to los an...</td>\n",
       "      <td>Show me the flights from pittsburgh to los ang...</td>\n",
       "      <td>show the from pittsburgh los angeles on</td>\n",
       "    </tr>\n",
       "    <tr>\n",
       "      <th>8</th>\n",
       "      <td>all flights from boston to washington</td>\n",
       "      <td>all flights from Boston to Washington</td>\n",
       "      <td>flights from to washington</td>\n",
       "    </tr>\n",
       "    <tr>\n",
       "      <th>9</th>\n",
       "      <td>what kind of ground transportation is availab...</td>\n",
       "      <td>what type of land transport is available in de...</td>\n",
       "      <td>what of ground is available denver</td>\n",
       "    </tr>\n",
       "  </tbody>\n",
       "</table>\n",
       "</div>"
      ],
      "text/plain": [
       "                                                 org  \\\n",
       "0   i want to fly from boston at 838 am and arriv...   \n",
       "1   what flights are available from pittsburgh to...   \n",
       "2   what is the arrival time in san francisco for...   \n",
       "3           cheapest airfare from tacoma to orlando    \n",
       "4   round trip fares from pittsburgh to philadelp...   \n",
       "5   i need a flight tomorrow from columbus to min...   \n",
       "6   what kind of aircraft is used on a flight fro...   \n",
       "7   show me the flights from pittsburgh to los an...   \n",
       "8             all flights from boston to washington    \n",
       "9   what kind of ground transportation is availab...   \n",
       "\n",
       "                                                aug1  \\\n",
       "0  I want to fly from Boston at 8:38 a.m. and arr...   \n",
       "1  which flights are available from Pittsburgh to...   \n",
       "2  what's the time of arrival in san francisco fo...   \n",
       "3           Cheapest airfares from tacoma to orlando   \n",
       "4  round-trip rates from pittsburgh to philadelph...   \n",
       "5  I need a columbus flight tomorrow in minneapolis.   \n",
       "6  what type of aircraft is used on a flight from...   \n",
       "7  Show me the flights from pittsburgh to los ang...   \n",
       "8              all flights from Boston to Washington   \n",
       "9  what type of land transport is available in de...   \n",
       "\n",
       "                                                aug2  \n",
       "0  want to fly from boston at 838 and in at 1110 ...  \n",
       "1  flights are from to baltimore on thursday morning  \n",
       "2  what the arrival time in francisco for the am ...  \n",
       "3                           cheapest from to orlando  \n",
       "4  round trip pittsburgh to philadelphia under do...  \n",
       "5                  i need a flight tomorrow columbus  \n",
       "6          what kind of aircraft is used a to dallas  \n",
       "7            show the from pittsburgh los angeles on  \n",
       "8                         flights from to washington  \n",
       "9                 what of ground is available denver  "
      ]
     },
     "execution_count": 6,
     "metadata": {},
     "output_type": "execute_result"
    }
   ],
   "source": [
    "# peak results\n",
    "df_aug_res"
   ]
  },
  {
   "cell_type": "markdown",
   "metadata": {},
   "source": [
    "### Generative AI (Conventional Method)"
   ]
  },
  {
   "cell_type": "code",
   "execution_count": 10,
   "metadata": {},
   "outputs": [],
   "source": [
    "gen_ai_config = {\n",
    "    'hf_token' : '', # override with your llama3 credential\n",
    "    'task' : 'text-generation',\n",
    "    'model' : 'meta-llama/Meta-Llama-3-8B-instruct',\n",
    "    'temperature' : 0.9,\n",
    "    'max_new_token' : 100,\n",
    "    'repetition_penalty' : 1.1,\n",
    "    'batch_size' : 20,\n",
    "    'device' : get_device()\n",
    "}"
   ]
  },
  {
   "cell_type": "code",
   "execution_count": 11,
   "metadata": {},
   "outputs": [
    {
     "name": "stderr",
     "output_type": "stream",
     "text": [
      "Downloading shards: 100%|██████████| 4/4 [00:00<00:00,  9.93it/s]\n",
      "Loading checkpoint shards: 100%|██████████| 4/4 [00:27<00:00,  6.83s/it]\n",
      "Special tokens have been added in the vocabulary, make sure the associated word embeddings are fine-tuned or trained.\n"
     ]
    }
   ],
   "source": [
    "### create data augmentation agent (AI)\n",
    "data_generator_ai = TextAugGenAI(config=gen_ai_config)"
   ]
  },
  {
   "cell_type": "code",
   "execution_count": 20,
   "metadata": {},
   "outputs": [],
   "source": [
    "# generation in-action\n",
    "df_aug_res_ai = data_generator_ai.augment(dummy_data[:10])"
   ]
  },
  {
   "cell_type": "code",
   "execution_count": null,
   "metadata": {},
   "outputs": [],
   "source": [
    "# peak results\n",
    "df_aug_res_ai"
   ]
  }
 ],
 "metadata": {
  "kernelspec": {
   "display_name": "base",
   "language": "python",
   "name": "python3"
  },
  "language_info": {
   "codemirror_mode": {
    "name": "ipython",
    "version": 3
   },
   "file_extension": ".py",
   "mimetype": "text/x-python",
   "name": "python",
   "nbconvert_exporter": "python",
   "pygments_lexer": "ipython3",
   "version": "3.10.13"
  }
 },
 "nbformat": 4,
 "nbformat_minor": 2
}
