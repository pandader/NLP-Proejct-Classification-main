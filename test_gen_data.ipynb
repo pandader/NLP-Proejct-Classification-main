{
 "cells": [
  {
   "cell_type": "code",
   "execution_count": 1,
   "metadata": {},
   "outputs": [
    {
     "name": "stderr",
     "output_type": "stream",
     "text": [
      "/Users/lunli/anaconda3/envs/ML Algo/lib/python3.10/site-packages/tqdm/auto.py:21: TqdmWarning: IProgress not found. Please update jupyter and ipywidgets. See https://ipywidgets.readthedocs.io/en/stable/user_install.html\n",
      "  from .autonotebook import tqdm as notebook_tqdm\n",
      "[nltk_data] Downloading package stopwords to /Users/lunli/nltk_data...\n",
      "[nltk_data]   Package stopwords is already up-to-date!\n"
     ]
    }
   ],
   "source": [
    "import os\n",
    "import pandas as pd\n",
    "# torch\n",
    "import torch\n",
    "# native\n",
    "from NlpAnalytics import *"
   ]
  },
  {
   "cell_type": "code",
   "execution_count": 2,
   "metadata": {},
   "outputs": [],
   "source": [
    "root_path = \"./NlpAnalytics/data/dummy_data/\"\n",
    "device = torch.device(\"cuda\" if torch.cuda.is_available() else \"cpu\")"
   ]
  },
  {
   "cell_type": "markdown",
   "metadata": {},
   "source": [
    "### Text Generation (given sample and label to generate new text)"
   ]
  },
  {
   "cell_type": "code",
   "execution_count": 3,
   "metadata": {},
   "outputs": [],
   "source": [
    "### Instaniate GenAI model (small model for demo)\n",
    "gen_model = GenAIModelLoader(model_name=\"bigscience/bloom-560m\", root_path=root_path, file_name='uda_generated_text')"
   ]
  },
  {
   "cell_type": "code",
   "execution_count": 4,
   "metadata": {},
   "outputs": [],
   "source": [
    "### sample movie review\n",
    "sample_movie_review = []\n",
    "sample_movie_review.append(\"she was caught in a political revolt . just when it looked like she had escaped and safely boarded a train , she saw her tour guide get beaten and shot . in a split second she decided to jump from the moving train and try to rescue him , with no thought of herself . continually her life was in danger . here is a woman who demonstrated spontaneous , selfless charity , risking her life to save another . patricia is beautiful , and not just to look at ; she has a beautiful heart . this is an unforgetable story . \"\" we are taught that suffering is the one promise that life always keeps.\")\n",
    "sample_movie_review.append(\"believe how deep i am in this show . i become to know absolutely everything about them i looked on the internet what ' s rory ' s car what are their middle names and stuff like that : rory is also leigh and lore ##lay is victoria . i can not understand why but my boyfriend does not like them and i try and try to make him see how wonderful they are but without success , but he does understand me and lets me be with my.\")"
   ]
  },
  {
   "cell_type": "code",
   "execution_count": null,
   "metadata": {},
   "outputs": [],
   "source": [
    "### generate text based on psuedo label\n",
    "# template function\n",
    "def prompt_template(input_texts, psuedo_label):\n",
    "    concat_body = input_texts + \"\\n\"\n",
    "    sentiment = \"positive\" if psuedo_label == 0 else 'negative'\n",
    "    prompt = f\"\"\" A sample movie review: {concat_body} A {sentiment} movie review: \"\"\"\n",
    "    return prompt\n",
    "\n",
    "# 0 is positive\n",
    "psuedo_label = 0 \n",
    "# generate result\n",
    "output = gen_model.run_uda_generation(sample_movie_review, psuedo_label, prompt_template=prompt_template, export_freq=1)"
   ]
  },
  {
   "cell_type": "code",
   "execution_count": null,
   "metadata": {},
   "outputs": [],
   "source": [
    "### check results\n",
    "idx = 0\n",
    "sep = 'A positive movie review:' if psuedo_label == 0 else 'A negative movie review:'\n",
    "tokenized = output[idx].split(sep)\n",
    "if len(tokenized) == 2:\n",
    "    text_1 = tokenized[0].replace('A sample movie review:', '')\n",
    "    text_2 = tokenized[1]\n",
    "    print(f'A sample review:{text_1} \\n {sep}{text_2}')"
   ]
  }
 ],
 "metadata": {
  "kernelspec": {
   "display_name": "base",
   "language": "python",
   "name": "python3"
  },
  "language_info": {
   "codemirror_mode": {
    "name": "ipython",
    "version": 3
   },
   "file_extension": ".py",
   "mimetype": "text/x-python",
   "name": "python",
   "nbconvert_exporter": "python",
   "pygments_lexer": "ipython3",
   "version": "3.10.13"
  }
 },
 "nbformat": 4,
 "nbformat_minor": 2
}
